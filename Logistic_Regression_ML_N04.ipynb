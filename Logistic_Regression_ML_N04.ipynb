{
  "cells": [
    {
      "cell_type": "markdown",
      "metadata": {
        "id": "view-in-github",
        "colab_type": "text"
      },
      "source": [
        "<a href=\"https://colab.research.google.com/github/YounkoA/Python-Nootbook/blob/main/Logistic_Regression_ML_N04.ipynb\" target=\"_parent\"><img src=\"https://colab.research.google.com/assets/colab-badge.svg\" alt=\"Open In Colab\"/></a>"
      ]
    },
    {
      "cell_type": "markdown",
      "id": "eb2e7b24",
      "metadata": {
        "id": "eb2e7b24"
      },
      "source": [
        "### Import packages, function, and classes"
      ]
    },
    {
      "cell_type": "code",
      "execution_count": 64,
      "id": "baa1e660",
      "metadata": {
        "id": "baa1e660"
      },
      "outputs": [],
      "source": [
        "import matplotlib.pyplot as plt\n",
        "import numpy as np\n",
        "from sklearn.linear_model import LogisticRegression\n",
        "from sklearn.metrics import classification_report, confusion_matrix"
      ]
    },
    {
      "cell_type": "markdown",
      "id": "940daecd",
      "metadata": {
        "id": "940daecd"
      },
      "source": [
        "### Generate dataset"
      ]
    },
    {
      "cell_type": "code",
      "execution_count": 65,
      "id": "7df64243",
      "metadata": {
        "id": "7df64243"
      },
      "outputs": [],
      "source": [
        "x = [\n",
        "    [5.1, 3.8, 1.6, 0.2],\n",
        "    [6.5, 3.0, 5.8, 2.2],\n",
        "    [7.0, 3.2, 4.7, 1.4],\n",
        "    [5.3, 3.7, 1.5, 0.2],\n",
        "    [6.3, 2.9, 5.6, 1.8],\n",
        "    [6.9, 3.1, 4.9, 1.5],\n",
        "    [4.6, 3.2, 1.4, 0.2],\n",
        "    [5.5, 2.3, 4.0, 1.3],\n",
        "    [5.8, 2.7, 5.1, 1.9],\n",
        "    [6.4, 3.2, 4.5, 1.5],\n",
        "    [5.0, 3.3, 1.4, 0.2],\n",
        "    [7.1, 3.0, 5.9, 2.1],\n",
        "]\n",
        "\n",
        "y= [1,2,3,1,2,3,1,3,2,3,1,2]"
      ]
    },
    {
      "cell_type": "code",
      "execution_count": 66,
      "id": "1649c907",
      "metadata": {
        "colab": {
          "base_uri": "https://localhost:8080/"
        },
        "id": "1649c907",
        "outputId": "b9af487e-88c4-4cea-c6cd-fb8b25d673ee"
      },
      "outputs": [
        {
          "output_type": "execute_result",
          "data": {
            "text/plain": [
              "[[5.1, 3.8, 1.6, 0.2],\n",
              " [6.5, 3.0, 5.8, 2.2],\n",
              " [7.0, 3.2, 4.7, 1.4],\n",
              " [5.3, 3.7, 1.5, 0.2],\n",
              " [6.3, 2.9, 5.6, 1.8],\n",
              " [6.9, 3.1, 4.9, 1.5],\n",
              " [4.6, 3.2, 1.4, 0.2],\n",
              " [5.5, 2.3, 4.0, 1.3],\n",
              " [5.8, 2.7, 5.1, 1.9],\n",
              " [6.4, 3.2, 4.5, 1.5],\n",
              " [5.0, 3.3, 1.4, 0.2],\n",
              " [7.1, 3.0, 5.9, 2.1]]"
            ]
          },
          "metadata": {},
          "execution_count": 66
        }
      ],
      "source": [
        "x"
      ]
    },
    {
      "cell_type": "code",
      "execution_count": 67,
      "id": "a60770b9",
      "metadata": {
        "colab": {
          "base_uri": "https://localhost:8080/"
        },
        "id": "a60770b9",
        "outputId": "d57b9b3f-edf9-44eb-886c-46f78971957d"
      },
      "outputs": [
        {
          "output_type": "execute_result",
          "data": {
            "text/plain": [
              "[1, 2, 3, 1, 2, 3, 1, 3, 2, 3, 1, 2]"
            ]
          },
          "metadata": {},
          "execution_count": 67
        }
      ],
      "source": [
        "y"
      ]
    },
    {
      "cell_type": "markdown",
      "id": "ab937127",
      "metadata": {
        "id": "ab937127"
      },
      "source": [
        "### Create a model and train it"
      ]
    },
    {
      "cell_type": "code",
      "execution_count": 68,
      "id": "cbfe8caa",
      "metadata": {
        "id": "cbfe8caa"
      },
      "outputs": [],
      "source": [
        "model = LogisticRegression(solver='liblinear', random_state=0)\n",
        "#model = LogisticRegression(solver='liblinear', random_state=0).fit(x, y)"
      ]
    },
    {
      "cell_type": "code",
      "execution_count": 69,
      "id": "295e2c4f",
      "metadata": {
        "colab": {
          "base_uri": "https://localhost:8080/"
        },
        "id": "295e2c4f",
        "outputId": "fbe84ab6-ab38-474d-9e4b-3f4fc61385de"
      },
      "outputs": [
        {
          "output_type": "execute_result",
          "data": {
            "text/plain": [
              "LogisticRegression(random_state=0, solver='liblinear')"
            ]
          },
          "metadata": {},
          "execution_count": 69
        }
      ],
      "source": [
        "model.fit(x, y)"
      ]
    },
    {
      "cell_type": "code",
      "execution_count": 70,
      "id": "6c24393d",
      "metadata": {
        "colab": {
          "base_uri": "https://localhost:8080/"
        },
        "id": "6c24393d",
        "outputId": "fbdf2f74-5f78-435c-b9b3-1408b4e66dec"
      },
      "outputs": [
        {
          "output_type": "execute_result",
          "data": {
            "text/plain": [
              "array([1, 2, 3])"
            ]
          },
          "metadata": {},
          "execution_count": 70
        }
      ],
      "source": [
        "model.classes_"
      ]
    },
    {
      "cell_type": "code",
      "execution_count": 71,
      "id": "4609eed4",
      "metadata": {
        "colab": {
          "base_uri": "https://localhost:8080/"
        },
        "id": "4609eed4",
        "outputId": "5b66149d-9a3b-4b78-9d14-f1a85ce39bad"
      },
      "outputs": [
        {
          "output_type": "execute_result",
          "data": {
            "text/plain": [
              "array([ 0.15192963, -0.1495411 , -0.15566418])"
            ]
          },
          "metadata": {},
          "execution_count": 71
        }
      ],
      "source": [
        "model.intercept_"
      ]
    },
    {
      "cell_type": "code",
      "execution_count": 72,
      "id": "3037ee75",
      "metadata": {
        "colab": {
          "base_uri": "https://localhost:8080/"
        },
        "id": "3037ee75",
        "outputId": "735ce0f9-60b3-43d1-9975-ca1f972cbe6c"
      },
      "outputs": [
        {
          "output_type": "execute_result",
          "data": {
            "text/plain": [
              "array([[ 0.1583448 ,  0.7470013 , -1.1140502 , -0.51855665],\n",
              "       [-0.72151172, -0.47343416,  1.01454458,  0.62649861],\n",
              "       [ 0.29095632, -0.77830089,  0.08935566, -0.14198748]])"
            ]
          },
          "metadata": {},
          "execution_count": 72
        }
      ],
      "source": [
        "model.coef_"
      ]
    },
    {
      "cell_type": "code",
      "execution_count": 73,
      "id": "cc11940f",
      "metadata": {
        "colab": {
          "base_uri": "https://localhost:8080/"
        },
        "id": "cc11940f",
        "outputId": "53276750-2996-4292-aa8a-71d5fd1a2666"
      },
      "outputs": [
        {
          "output_type": "execute_result",
          "data": {
            "text/plain": [
              "array([[0.81294026, 0.01888425, 0.16817549],\n",
              "       [0.01310539, 0.636437  , 0.35045762],\n",
              "       [0.1202942 , 0.34072543, 0.53898037],\n",
              "       [0.80236781, 0.0152096 , 0.18242259],\n",
              "       [0.01857279, 0.60739168, 0.37403552],\n",
              "       [0.07885306, 0.41062191, 0.51052504],\n",
              "       [0.76168863, 0.02846737, 0.209844  ],\n",
              "       [0.08765193, 0.43545427, 0.4768938 ],\n",
              "       [0.02439601, 0.61115787, 0.36444612],\n",
              "       [0.12596242, 0.41060302, 0.46343456],\n",
              "       [0.76685492, 0.02022121, 0.21292387],\n",
              "       [0.01399832, 0.58114242, 0.40485926]])"
            ]
          },
          "metadata": {},
          "execution_count": 73
        }
      ],
      "source": [
        "model.predict_proba(x)"
      ]
    },
    {
      "cell_type": "code",
      "execution_count": 74,
      "id": "36ab01c0",
      "metadata": {
        "colab": {
          "base_uri": "https://localhost:8080/"
        },
        "id": "36ab01c0",
        "outputId": "204bfb7c-32f8-4dd1-e2e0-802812e05fe7"
      },
      "outputs": [
        {
          "output_type": "execute_result",
          "data": {
            "text/plain": [
              "array([1, 2, 3, 1, 2, 3, 1, 3, 2, 3, 1, 2])"
            ]
          },
          "metadata": {},
          "execution_count": 74
        }
      ],
      "source": [
        "model.predict(x)"
      ]
    },
    {
      "cell_type": "code",
      "execution_count": 75,
      "id": "5ce82601",
      "metadata": {
        "colab": {
          "base_uri": "https://localhost:8080/"
        },
        "id": "5ce82601",
        "outputId": "85df88b9-9b6b-4b2d-ada0-13d04c6d610d"
      },
      "outputs": [
        {
          "output_type": "execute_result",
          "data": {
            "text/plain": [
              "1.0"
            ]
          },
          "metadata": {},
          "execution_count": 75
        }
      ],
      "source": [
        "model.score(x, y)"
      ]
    },
    {
      "cell_type": "markdown",
      "id": "0b33d13c",
      "metadata": {
        "id": "0b33d13c"
      },
      "source": [
        "![log-reg-5.webp](attachment:log-reg-5.webp)"
      ]
    },
    {
      "cell_type": "code",
      "execution_count": 76,
      "id": "2412a97e",
      "metadata": {
        "colab": {
          "base_uri": "https://localhost:8080/"
        },
        "id": "2412a97e",
        "outputId": "f17c05f7-635b-45ec-8e46-42618ec09708"
      },
      "outputs": [
        {
          "output_type": "execute_result",
          "data": {
            "text/plain": [
              "array([[4, 0, 0],\n",
              "       [0, 4, 0],\n",
              "       [0, 0, 4]])"
            ]
          },
          "metadata": {},
          "execution_count": 76
        }
      ],
      "source": [
        "confusion_matrix(y, model.predict(x))"
      ]
    },
    {
      "cell_type": "code",
      "execution_count": 77,
      "id": "13696a51",
      "metadata": {
        "colab": {
          "base_uri": "https://localhost:8080/",
          "height": 345
        },
        "id": "13696a51",
        "outputId": "4fa0d53d-c213-4f98-a88d-c1f2b2009a71"
      },
      "outputs": [
        {
          "output_type": "display_data",
          "data": {
            "text/plain": [
              "<Figure size 576x576 with 1 Axes>"
            ],
            "image/png": "[encoded data removed]"
          },
          "metadata": {
            "needs_background": "light"
          }
        }
      ],
      "source": [
        "cm = confusion_matrix(y, model.predict(x))\n",
        "\n",
        "fig, ax = plt.subplots(figsize=(8, 8))\n",
        "ax.imshow(cm)\n",
        "ax.grid(False)\n",
        "ax.xaxis.set(ticks=(0, 1), ticklabels=('Predicted 0s', 'Predicted 1s'))\n",
        "ax.yaxis.set(ticks=(0, 1), ticklabels=('Actual 0s', 'Actual 1s'))\n",
        "ax.set_ylim(1.5, -0.5)\n",
        "for i in range(2):\n",
        "    for j in range(2):\n",
        "        ax.text(j, i, cm[i, j], ha='center', va='center', color='red')\n",
        "plt.show()"
      ]
    },
    {
      "cell_type": "code",
      "execution_count": 78,
      "id": "70024ae4",
      "metadata": {
        "colab": {
          "base_uri": "https://localhost:8080/"
        },
        "id": "70024ae4",
        "outputId": "6f018f91-a823-4572-ff32-e66f060fc100"
      },
      "outputs": [
        {
          "output_type": "stream",
          "name": "stdout",
          "text": [
            "              precision    recall  f1-score   support\n",
            "\n",
            "           1       1.00      1.00      1.00         4\n",
            "           2       1.00      1.00      1.00         4\n",
            "           3       1.00      1.00      1.00         4\n",
            "\n",
            "    accuracy                           1.00        12\n",
            "   macro avg       1.00      1.00      1.00        12\n",
            "weighted avg       1.00      1.00      1.00        12\n",
            "\n"
          ]
        }
      ],
      "source": [
        "print(classification_report(y, model.predict(x)))"
      ]
    },
    {
      "cell_type": "markdown",
      "id": "e44e5324",
      "metadata": {
        "id": "e44e5324"
      },
      "source": [
        "### Improve the model"
      ]
    },
    {
      "cell_type": "code",
      "execution_count": 79,
      "id": "46b22213",
      "metadata": {
        "colab": {
          "base_uri": "https://localhost:8080/"
        },
        "id": "46b22213",
        "outputId": "da729a9d-eca4-4bff-fd52-3cd7015578dc"
      },
      "outputs": [
        {
          "output_type": "execute_result",
          "data": {
            "text/plain": [
              "LogisticRegression(C=10.0, random_state=0, solver='liblinear')"
            ]
          },
          "metadata": {},
          "execution_count": 79
        }
      ],
      "source": [
        "model = LogisticRegression(solver='liblinear', C=10.0, random_state=0)\n",
        "model.fit(x, y)"
      ]
    },
    {
      "cell_type": "code",
      "execution_count": 80,
      "id": "1b3be880",
      "metadata": {
        "colab": {
          "base_uri": "https://localhost:8080/"
        },
        "id": "1b3be880",
        "outputId": "b4480d23-d3a8-446e-e183-af2cad2e95b0"
      },
      "outputs": [
        {
          "output_type": "execute_result",
          "data": {
            "text/plain": [
              "array([ 0.3021755 , -0.62644421, -0.67355325])"
            ]
          },
          "metadata": {},
          "execution_count": 80
        }
      ],
      "source": [
        "model.intercept_"
      ]
    },
    {
      "cell_type": "code",
      "execution_count": 81,
      "id": "7f157c03",
      "metadata": {
        "colab": {
          "base_uri": "https://localhost:8080/"
        },
        "id": "7f157c03",
        "outputId": "23f82447-2b2e-450f-9861-aaf425a8ca58"
      },
      "outputs": [
        {
          "output_type": "execute_result",
          "data": {
            "text/plain": [
              "array([[ 0.30789403,  1.40778389, -2.01521396, -0.93415688],\n",
              "       [-2.18330885, -1.00112908,  2.87554108,  1.79397554],\n",
              "       [ 2.23150536, -3.29799381, -0.41743528, -1.29332236]])"
            ]
          },
          "metadata": {},
          "execution_count": 81
        }
      ],
      "source": [
        "model.coef_"
      ]
    },
    {
      "cell_type": "code",
      "execution_count": 82,
      "id": "68a55764",
      "metadata": {
        "colab": {
          "base_uri": "https://localhost:8080/"
        },
        "id": "68a55764",
        "outputId": "3c414ca7-d17c-4668-aa36-5e73c19c5d2e"
      },
      "outputs": [
        {
          "output_type": "execute_result",
          "data": {
            "text/plain": [
              "array([[9.42207742e-01, 2.38526547e-05, 5.77684053e-02],\n",
              "       [6.36479584e-04, 8.17825421e-01, 1.81538099e-01],\n",
              "       [3.00742831e-02, 6.10170821e-02, 9.08908635e-01],\n",
              "       [8.85897462e-01, 1.19853325e-05, 1.14090553e-01],\n",
              "       [1.09678779e-03, 7.45846178e-01, 2.53057034e-01],\n",
              "       [1.47731075e-02, 1.56032020e-01, 8.29194873e-01],\n",
              "       [8.71872452e-01, 6.86456076e-05, 1.28058903e-01],\n",
              "       [1.86335985e-02, 2.68977325e-01, 7.12389077e-01],\n",
              "       [1.87738594e-03, 7.94647920e-01, 2.03474694e-01],\n",
              "       [5.47157722e-02, 2.30130264e-01, 7.15153963e-01],\n",
              "       [8.12386878e-01, 2.39485501e-05, 1.87589174e-01],\n",
              "       [5.83626209e-04, 6.13145555e-01, 3.86270819e-01]])"
            ]
          },
          "metadata": {},
          "execution_count": 82
        }
      ],
      "source": [
        "model.predict_proba(x)"
      ]
    },
    {
      "cell_type": "code",
      "execution_count": 83,
      "id": "90e5cdbb",
      "metadata": {
        "colab": {
          "base_uri": "https://localhost:8080/"
        },
        "id": "90e5cdbb",
        "outputId": "6a2d6ac6-01c8-4f1d-9d74-d52f15fda21c"
      },
      "outputs": [
        {
          "output_type": "execute_result",
          "data": {
            "text/plain": [
              "array([3, 2])"
            ]
          },
          "metadata": {},
          "execution_count": 83
        }
      ],
      "source": [
        "X = [[5.7, 2.8, 4.1, 1.4],[6.3,3.3,5.8,2.5]]\n",
        "model.predict(X)"
      ]
    },
    {
      "cell_type": "code",
      "execution_count": 84,
      "id": "c0091252",
      "metadata": {
        "colab": {
          "base_uri": "https://localhost:8080/"
        },
        "id": "c0091252",
        "outputId": "7c789933-12e0-4bc2-99b5-826c0215121a"
      },
      "outputs": [
        {
          "output_type": "execute_result",
          "data": {
            "text/plain": [
              "1.0"
            ]
          },
          "metadata": {},
          "execution_count": 84
        }
      ],
      "source": [
        "model.score(x, y)"
      ]
    },
    {
      "cell_type": "code",
      "execution_count": 85,
      "id": "4d59d8bf",
      "metadata": {
        "colab": {
          "base_uri": "https://localhost:8080/"
        },
        "id": "4d59d8bf",
        "outputId": "1d1e54a5-fd22-4820-fc1b-5f84958450aa"
      },
      "outputs": [
        {
          "output_type": "execute_result",
          "data": {
            "text/plain": [
              "array([[4, 0, 0],\n",
              "       [0, 4, 0],\n",
              "       [0, 0, 4]])"
            ]
          },
          "metadata": {},
          "execution_count": 85
        }
      ],
      "source": [
        "confusion_matrix(y, model.predict(x))"
      ]
    },
    {
      "cell_type": "code",
      "execution_count": 86,
      "id": "339c3252",
      "metadata": {
        "colab": {
          "base_uri": "https://localhost:8080/"
        },
        "id": "339c3252",
        "outputId": "6dc231ba-78b3-4279-8f79-d5a7cb88ac71"
      },
      "outputs": [
        {
          "output_type": "stream",
          "name": "stdout",
          "text": [
            "              precision    recall  f1-score   support\n",
            "\n",
            "           1       1.00      1.00      1.00         4\n",
            "           2       1.00      1.00      1.00         4\n",
            "           3       1.00      1.00      1.00         4\n",
            "\n",
            "    accuracy                           1.00        12\n",
            "   macro avg       1.00      1.00      1.00        12\n",
            "weighted avg       1.00      1.00      1.00        12\n",
            "\n"
          ]
        }
      ],
      "source": [
        "print(classification_report(y, model.predict(x)))"
      ]
    }
  ],
  "metadata": {
    "kernelspec": {
      "display_name": "Python 3 (ipykernel)",
      "language": "python",
      "name": "python3"
    },
    "language_info": {
      "codemirror_mode": {
        "name": "ipython",
        "version": 3
      },
      "file_extension": ".py",
      "mimetype": "text/x-python",
      "name": "python",
      "nbconvert_exporter": "python",
      "pygments_lexer": "ipython3",
      "version": "3.8.10"
    },
    "colab": {
      "name": "Logistic Regression-ML-N04.ipynb",
      "provenance": [],
      "include_colab_link": true
    }
  },
  "nbformat": 4,
  "nbformat_minor": 5
}