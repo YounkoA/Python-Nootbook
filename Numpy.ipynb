{
  "cells": [
    {
      "cell_type": "markdown",
      "metadata": {
        "id": "view-in-github",
        "colab_type": "text"
      },
      "source": [
        "<a href=\"https://colab.research.google.com/github/YounkoA/Python-Nootbook/blob/main/Numpy.ipynb\" target=\"_parent\"><img src=\"https://colab.research.google.com/assets/colab-badge.svg\" alt=\"Open In Colab\"/></a>"
      ]
    },
    {
      "cell_type": "code",
      "execution_count": 1,
      "id": "5235698f-ad30-4cd4-a9bf-c18b9736466c",
      "metadata": {
        "id": "5235698f-ad30-4cd4-a9bf-c18b9736466c"
      },
      "outputs": [],
      "source": [
        "#numpy"
      ]
    },
    {
      "cell_type": "code",
      "execution_count": 7,
      "id": "7637b86e-13f6-40d5-8991-50392d37e729",
      "metadata": {
        "colab": {
          "base_uri": "https://localhost:8080/"
        },
        "id": "7637b86e-13f6-40d5-8991-50392d37e729",
        "outputId": "9340f11d-e2bd-40d0-ab8f-73e28d3000c8"
      },
      "outputs": [
        {
          "output_type": "execute_result",
          "data": {
            "text/plain": [
              "6"
            ]
          },
          "metadata": {},
          "execution_count": 7
        }
      ],
      "source": [
        "x=6\n",
        "x"
      ]
    },
    {
      "cell_type": "code",
      "execution_count": 8,
      "id": "0e6165d7-010c-4c53-b0c0-12c39fba9aa3",
      "metadata": {
        "colab": {
          "base_uri": "https://localhost:8080/"
        },
        "id": "0e6165d7-010c-4c53-b0c0-12c39fba9aa3",
        "outputId": "7118cf77-7147-4e38-a078-0c8638fa859e"
      },
      "outputs": [
        {
          "output_type": "execute_result",
          "data": {
            "text/plain": [
              "8"
            ]
          },
          "metadata": {},
          "execution_count": 8
        }
      ],
      "source": [
        "a=x+2\n",
        "a"
      ]
    },
    {
      "cell_type": "code",
      "execution_count": 9,
      "id": "aa443db8-2fd0-4bd7-9db5-bb53218a8bca",
      "metadata": {
        "colab": {
          "base_uri": "https://localhost:8080/"
        },
        "id": "aa443db8-2fd0-4bd7-9db5-bb53218a8bca",
        "outputId": "68713af9-6d8d-4831-d5b9-e1920a4458ce"
      },
      "outputs": [
        {
          "output_type": "execute_result",
          "data": {
            "text/plain": [
              "1"
            ]
          },
          "metadata": {},
          "execution_count": 9
        }
      ],
      "source": [
        "b=x-5                \n",
        "b"
      ]
    },
    {
      "cell_type": "code",
      "execution_count": 10,
      "id": "dda874c0-1377-4a94-98e2-f60013048527",
      "metadata": {
        "colab": {
          "base_uri": "https://localhost:8080/"
        },
        "id": "dda874c0-1377-4a94-98e2-f60013048527",
        "outputId": "732cd3b1-4d8a-4f68-c7bb-fdf3c65f4578"
      },
      "outputs": [
        {
          "output_type": "execute_result",
          "data": {
            "text/plain": [
              "12"
            ]
          },
          "metadata": {},
          "execution_count": 10
        }
      ],
      "source": [
        "c=x*2                \n",
        "c"
      ]
    },
    {
      "cell_type": "code",
      "execution_count": 11,
      "id": "e8ea1139-7f14-470c-9859-4c7a1a20dc5d",
      "metadata": {
        "colab": {
          "base_uri": "https://localhost:8080/"
        },
        "id": "e8ea1139-7f14-470c-9859-4c7a1a20dc5d",
        "outputId": "6a405f36-f872-44b4-a02c-452f74c0cc5b"
      },
      "outputs": [
        {
          "output_type": "execute_result",
          "data": {
            "text/plain": [
              "36"
            ]
          },
          "metadata": {},
          "execution_count": 11
        }
      ],
      "source": [
        "d=x**2               \n",
        "d"
      ]
    },
    {
      "cell_type": "code",
      "execution_count": 13,
      "id": "01ae570a-9eb0-4df6-b7e8-401dcb4d5c96",
      "metadata": {
        "colab": {
          "base_uri": "https://localhost:8080/"
        },
        "id": "01ae570a-9eb0-4df6-b7e8-401dcb4d5c96",
        "outputId": "317bc342-f556-43db-82e2-9c851899f398"
      },
      "outputs": [
        {
          "output_type": "execute_result",
          "data": {
            "text/plain": [
              "2"
            ]
          },
          "metadata": {},
          "execution_count": 13
        }
      ],
      "source": [
        "e=x%4                \n",
        "e"
      ]
    },
    {
      "cell_type": "code",
      "execution_count": 14,
      "id": "8f6de89e-a4ac-4625-8732-cb61d5337521",
      "metadata": {
        "colab": {
          "base_uri": "https://localhost:8080/"
        },
        "id": "8f6de89e-a4ac-4625-8732-cb61d5337521",
        "outputId": "a77528e2-9389-42e3-e245-cde64cffcf84"
      },
      "outputs": [
        {
          "output_type": "execute_result",
          "data": {
            "text/plain": [
              "3.0"
            ]
          },
          "metadata": {},
          "execution_count": 14
        }
      ],
      "source": [
        "f= x/float(2)\n",
        "f"
      ]
    },
    {
      "cell_type": "code",
      "execution_count": null,
      "id": "74965997-731f-4cb8-95ce-432b8ad6f66e",
      "metadata": {
        "id": "74965997-731f-4cb8-95ce-432b8ad6f66e"
      },
      "outputs": [],
      "source": [
        "#string operation"
      ]
    },
    {
      "cell_type": "code",
      "execution_count": 15,
      "id": "1f39f1ab-f95f-4960-a17e-300d30d281ea",
      "metadata": {
        "colab": {
          "base_uri": "https://localhost:8080/",
          "height": 35
        },
        "id": "1f39f1ab-f95f-4960-a17e-300d30d281ea",
        "outputId": "123c2bdc-97d8-46c3-e5c6-2e6af30f6644"
      },
      "outputs": [
        {
          "output_type": "execute_result",
          "data": {
            "application/vnd.google.colaboratory.intrinsic+json": {
              "type": "string"
            },
            "text/plain": [
              "'thisStringIsAwesome'"
            ]
          },
          "metadata": {},
          "execution_count": 15
        }
      ],
      "source": [
        "my_string = 'thisStringIsAwesome'\n",
        "my_string"
      ]
    },
    {
      "cell_type": "code",
      "execution_count": 16,
      "id": "126115c5-af04-414c-be0f-c26311e60d22",
      "metadata": {
        "colab": {
          "base_uri": "https://localhost:8080/",
          "height": 35
        },
        "id": "126115c5-af04-414c-be0f-c26311e60d22",
        "outputId": "ce835a3b-8995-47c3-9fdf-9e733120172f"
      },
      "outputs": [
        {
          "output_type": "execute_result",
          "data": {
            "application/vnd.google.colaboratory.intrinsic+json": {
              "type": "string"
            },
            "text/plain": [
              "'thisStringIsAwesome'"
            ]
          },
          "metadata": {},
          "execution_count": 16
        }
      ],
      "source": [
        "my_string * 2\n",
        "my_string"
      ]
    },
    {
      "cell_type": "code",
      "execution_count": 17,
      "id": "15d90812-e368-46cc-8a7b-1eb2f75e4fa2",
      "metadata": {
        "colab": {
          "base_uri": "https://localhost:8080/",
          "height": 35
        },
        "id": "15d90812-e368-46cc-8a7b-1eb2f75e4fa2",
        "outputId": "51e345ba-a90e-4772-ab2b-30a6d36b52e1"
      },
      "outputs": [
        {
          "output_type": "execute_result",
          "data": {
            "application/vnd.google.colaboratory.intrinsic+json": {
              "type": "string"
            },
            "text/plain": [
              "'thisStringIsAwesome'"
            ]
          },
          "metadata": {},
          "execution_count": 17
        }
      ],
      "source": [
        "my_string + 'Innit'\n",
        "my_string"
      ]
    },
    {
      "cell_type": "code",
      "execution_count": 18,
      "id": "6ee33ee4-83f6-490e-815e-71d0ae978cfe",
      "metadata": {
        "colab": {
          "base_uri": "https://localhost:8080/"
        },
        "id": "6ee33ee4-83f6-490e-815e-71d0ae978cfe",
        "outputId": "0b15651c-f2bb-426d-e901-215cc33526eb"
      },
      "outputs": [
        {
          "output_type": "execute_result",
          "data": {
            "text/plain": [
              "True"
            ]
          },
          "metadata": {},
          "execution_count": 18
        }
      ],
      "source": [
        "'m' in my_string "
      ]
    },
    {
      "cell_type": "code",
      "execution_count": null,
      "id": "3cede506-cbe1-494e-9fbe-c11e666c472b",
      "metadata": {
        "id": "3cede506-cbe1-494e-9fbe-c11e666c472b"
      },
      "outputs": [],
      "source": [
        "#Lists"
      ]
    },
    {
      "cell_type": "code",
      "execution_count": 19,
      "id": "2e5deae2-5ce4-4943-83ed-46ae05d77d0c",
      "metadata": {
        "id": "2e5deae2-5ce4-4943-83ed-46ae05d77d0c"
      },
      "outputs": [],
      "source": [
        "a = 'is'\n",
        "b = 'nice'\n",
        "my_list = ['my', 'list', a, b]\n",
        "my_list2 = [[4,5,6,7], [3,4,5,6]]"
      ]
    },
    {
      "cell_type": "code",
      "execution_count": 20,
      "id": "225960f9-8b7e-4b7e-a67c-c3db8548ac03",
      "metadata": {
        "colab": {
          "base_uri": "https://localhost:8080/",
          "height": 35
        },
        "id": "225960f9-8b7e-4b7e-a67c-c3db8548ac03",
        "outputId": "c4a3e862-489a-4681-fca7-a07d4549b72f"
      },
      "outputs": [
        {
          "output_type": "execute_result",
          "data": {
            "application/vnd.google.colaboratory.intrinsic+json": {
              "type": "string"
            },
            "text/plain": [
              "'list'"
            ]
          },
          "metadata": {},
          "execution_count": 20
        }
      ],
      "source": [
        "#Subset\n",
        "my_list[1]"
      ]
    },
    {
      "cell_type": "code",
      "execution_count": 21,
      "id": "9a0b5a4e-4485-4467-ade3-e04f61ae44fb",
      "metadata": {
        "colab": {
          "base_uri": "https://localhost:8080/",
          "height": 35
        },
        "id": "9a0b5a4e-4485-4467-ade3-e04f61ae44fb",
        "outputId": "c88728b0-d495-4c03-c912-550967af3836"
      },
      "outputs": [
        {
          "output_type": "execute_result",
          "data": {
            "application/vnd.google.colaboratory.intrinsic+json": {
              "type": "string"
            },
            "text/plain": [
              "'list'"
            ]
          },
          "metadata": {},
          "execution_count": 21
        }
      ],
      "source": [
        "g= my_list[-3]\n",
        "g"
      ]
    },
    {
      "cell_type": "code",
      "execution_count": 22,
      "id": "a7812b28-12a1-4418-aff7-0734f7d9cf7f",
      "metadata": {
        "colab": {
          "base_uri": "https://localhost:8080/"
        },
        "id": "a7812b28-12a1-4418-aff7-0734f7d9cf7f",
        "outputId": "8af91bf3-d2b7-4d7b-cc87-91d9cd2555f1"
      },
      "outputs": [
        {
          "output_type": "execute_result",
          "data": {
            "text/plain": [
              "['list', 'is']"
            ]
          },
          "metadata": {},
          "execution_count": 22
        }
      ],
      "source": [
        "#Slice\n",
        "h=my_list[1:3]\n",
        "h"
      ]
    },
    {
      "cell_type": "code",
      "execution_count": 23,
      "id": "22ed3b6e-65a3-4236-9ae2-e13f3d633d9b",
      "metadata": {
        "colab": {
          "base_uri": "https://localhost:8080/"
        },
        "id": "22ed3b6e-65a3-4236-9ae2-e13f3d633d9b",
        "outputId": "0f593475-cf24-4813-eaa1-0b232561cc3d"
      },
      "outputs": [
        {
          "output_type": "execute_result",
          "data": {
            "text/plain": [
              "['list', 'is', 'nice']"
            ]
          },
          "metadata": {},
          "execution_count": 23
        }
      ],
      "source": [
        "i=my_list[1:]\n",
        "i"
      ]
    },
    {
      "cell_type": "code",
      "execution_count": 24,
      "id": "18897c4f-2fb3-4567-825a-996918779cd0",
      "metadata": {
        "colab": {
          "base_uri": "https://localhost:8080/"
        },
        "id": "18897c4f-2fb3-4567-825a-996918779cd0",
        "outputId": "e94fd400-2c5a-4b04-dcdf-c794f9b7baef"
      },
      "outputs": [
        {
          "output_type": "execute_result",
          "data": {
            "text/plain": [
              "['my', 'list', 'is', 'nice']"
            ]
          },
          "metadata": {},
          "execution_count": 24
        }
      ],
      "source": [
        "my_list[:3]\n",
        "my_list"
      ]
    },
    {
      "cell_type": "code",
      "execution_count": 25,
      "id": "3a2e2325-2f0e-49d8-b371-c2b023bdd5ee",
      "metadata": {
        "colab": {
          "base_uri": "https://localhost:8080/"
        },
        "id": "3a2e2325-2f0e-49d8-b371-c2b023bdd5ee",
        "outputId": "fda6918b-30a1-4fff-bf91-3e666cef42ff"
      },
      "outputs": [
        {
          "output_type": "execute_result",
          "data": {
            "text/plain": [
              "['my', 'list', 'is', 'nice']"
            ]
          },
          "metadata": {},
          "execution_count": 25
        }
      ],
      "source": [
        "j=my_list[:]\n",
        "j"
      ]
    },
    {
      "cell_type": "code",
      "execution_count": 26,
      "id": "dbece1a0-51ac-473d-8e92-ae7d60bfe955",
      "metadata": {
        "colab": {
          "base_uri": "https://localhost:8080/"
        },
        "id": "dbece1a0-51ac-473d-8e92-ae7d60bfe955",
        "outputId": "90615196-cfaf-4e83-e281-3df5d67655ed"
      },
      "outputs": [
        {
          "output_type": "execute_result",
          "data": {
            "text/plain": [
              "3"
            ]
          },
          "metadata": {},
          "execution_count": 26
        }
      ],
      "source": [
        "#Subset Lists of Lists\n",
        "k=my_list2[1][0]\n",
        "k"
      ]
    },
    {
      "cell_type": "code",
      "execution_count": 27,
      "id": "e0468abb-2b98-4939-9ab0-4976f99c88cd",
      "metadata": {
        "colab": {
          "base_uri": "https://localhost:8080/"
        },
        "id": "e0468abb-2b98-4939-9ab0-4976f99c88cd",
        "outputId": "2291f311-c16f-4537-e253-cdf4eaad8efd"
      },
      "outputs": [
        {
          "output_type": "execute_result",
          "data": {
            "text/plain": [
              "[3, 4]"
            ]
          },
          "metadata": {},
          "execution_count": 27
        }
      ],
      "source": [
        "l=my_list2[1][:2]\n",
        "l"
      ]
    },
    {
      "cell_type": "code",
      "execution_count": 28,
      "id": "c2507b2e-8666-44da-887f-05cfe0121742",
      "metadata": {
        "id": "c2507b2e-8666-44da-887f-05cfe0121742"
      },
      "outputs": [],
      "source": [
        "#List Operations"
      ]
    },
    {
      "cell_type": "code",
      "execution_count": 29,
      "id": "720dc90c-a241-4a15-b7a9-b4a609ea1015",
      "metadata": {
        "colab": {
          "base_uri": "https://localhost:8080/"
        },
        "id": "720dc90c-a241-4a15-b7a9-b4a609ea1015",
        "outputId": "81e2bc75-8f3a-46b5-eef2-f6e42e3e9c61"
      },
      "outputs": [
        {
          "output_type": "execute_result",
          "data": {
            "text/plain": [
              "['my', 'list', 'is', 'nice', 'my', 'list', 'is', 'nice']"
            ]
          },
          "metadata": {},
          "execution_count": 29
        }
      ],
      "source": [
        "m=my_list + my_list\n",
        "m"
      ]
    },
    {
      "cell_type": "code",
      "execution_count": 30,
      "id": "bb7f5970-8e3a-43a1-9f44-0e6f2e025cd1",
      "metadata": {
        "colab": {
          "base_uri": "https://localhost:8080/"
        },
        "id": "bb7f5970-8e3a-43a1-9f44-0e6f2e025cd1",
        "outputId": "c5dfee95-fd1b-4b5e-fc41-b871ddb06966"
      },
      "outputs": [
        {
          "output_type": "execute_result",
          "data": {
            "text/plain": [
              "['my', 'list', 'is', 'nice', 'my', 'list', 'is', 'nice']"
            ]
          },
          "metadata": {},
          "execution_count": 30
        }
      ],
      "source": [
        "n=my_list * 2\n",
        "n"
      ]
    },
    {
      "cell_type": "code",
      "execution_count": null,
      "id": "4f9e9542-e3d6-4ed4-9bb0-012d4c26a54e",
      "metadata": {
        "id": "4f9e9542-e3d6-4ed4-9bb0-012d4c26a54e"
      },
      "outputs": [],
      "source": [
        "# >>> list methods\n",
        "# my_list.index(a)   Get the index of an item          \n",
        "# >>>\n",
        "# my_list.count(a) Count an item\n",
        "# >>>\n",
        "# my_list.append('!') Append an item at a time\n",
        "# >>>\n",
        "# my_list.remove('!') Remove an item\n",
        "# >>> del(my_list[0:1]) Remove an item\n",
        "# >>> \n",
        "# my_list.reverse() Reverse the list\n",
        "\n",
        "# >>> \n",
        "# my_list.extend('!') Append an item\n",
        "# >>> my_list.pop(-1) Remove an item\n",
        "# >>> my_list.insert(0,'!') Insert an item\n",
        "# >>> my_list.sort() Sort the list"
      ]
    },
    {
      "cell_type": "code",
      "execution_count": null,
      "id": "adf9ccf6-a098-4df2-8df4-ec5e10e1a889",
      "metadata": {
        "id": "adf9ccf6-a098-4df2-8df4-ec5e10e1a889"
      },
      "outputs": [],
      "source": [
        "#string methods\n",
        "# >>> my_string.upper() String to uppercase\n",
        "# >>> my_string.lower() String to lowercase\n",
        "# >>> my_string.count('w') Count String elements\n",
        "# >>> my_string.replace('e', 'i') Replace String elements\n",
        "# >>> my_string.strip() Strip whitespaces"
      ]
    },
    {
      "cell_type": "code",
      "execution_count": 31,
      "id": "543a04b1-37df-40bb-afb1-9d55d3823d8f",
      "metadata": {
        "id": "543a04b1-37df-40bb-afb1-9d55d3823d8f"
      },
      "outputs": [],
      "source": [
        "#Import libraries\n",
        "import numpy as np\n",
        "#Selective import\n",
        "from math import pi"
      ]
    },
    {
      "cell_type": "code",
      "execution_count": 32,
      "id": "613b2166-330a-4ca9-abd2-2c92d2ef3586",
      "metadata": {
        "colab": {
          "base_uri": "https://localhost:8080/"
        },
        "id": "613b2166-330a-4ca9-abd2-2c92d2ef3586",
        "outputId": "66662a78-5061-46be-c4e9-2f8b73c1c18e"
      },
      "outputs": [
        {
          "output_type": "execute_result",
          "data": {
            "text/plain": [
              "[1, 2, 3, 4]"
            ]
          },
          "metadata": {},
          "execution_count": 32
        }
      ],
      "source": [
        "#numpy arrays\n",
        "o=my_list = [1, 2, 3, 4]\n",
        "o"
      ]
    },
    {
      "cell_type": "code",
      "execution_count": 33,
      "id": "e8e64865-9c05-4d83-b518-f54a1854a867",
      "metadata": {
        "colab": {
          "base_uri": "https://localhost:8080/"
        },
        "id": "e8e64865-9c05-4d83-b518-f54a1854a867",
        "outputId": "32ef6fa7-1fdd-42e4-c048-fe5bba1ee1dc"
      },
      "outputs": [
        {
          "output_type": "execute_result",
          "data": {
            "text/plain": [
              "array([1, 2, 3, 4])"
            ]
          },
          "metadata": {},
          "execution_count": 33
        }
      ],
      "source": [
        "p= my_array = np.array(my_list)\n",
        "p"
      ]
    },
    {
      "cell_type": "code",
      "execution_count": 34,
      "id": "90d9e0bf-6597-4b46-a555-2140aed5ee88",
      "metadata": {
        "colab": {
          "base_uri": "https://localhost:8080/"
        },
        "id": "90d9e0bf-6597-4b46-a555-2140aed5ee88",
        "outputId": "7ab12d44-14d0-4b57-b531-98ff1aebcc48"
      },
      "outputs": [
        {
          "output_type": "execute_result",
          "data": {
            "text/plain": [
              "array([[1, 2, 3],\n",
              "       [4, 5, 6]])"
            ]
          },
          "metadata": {},
          "execution_count": 34
        }
      ],
      "source": [
        "q=my_2darray = np.array([[1,2,3],[4,5,6]])\n",
        "q"
      ]
    },
    {
      "cell_type": "code",
      "execution_count": null,
      "id": "7adf8a29-fa6f-4ebf-a6c4-737bba057721",
      "metadata": {
        "id": "7adf8a29-fa6f-4ebf-a6c4-737bba057721"
      },
      "outputs": [],
      "source": [
        "#selectring numpy array elements"
      ]
    },
    {
      "cell_type": "code",
      "execution_count": 35,
      "id": "e7e4de7a-eb00-47b6-98b9-9b8c6e1d4d9a",
      "metadata": {
        "colab": {
          "base_uri": "https://localhost:8080/"
        },
        "id": "e7e4de7a-eb00-47b6-98b9-9b8c6e1d4d9a",
        "outputId": "a4c6d153-b083-4696-ddd6-0647765ba952"
      },
      "outputs": [
        {
          "output_type": "execute_result",
          "data": {
            "text/plain": [
              "2"
            ]
          },
          "metadata": {},
          "execution_count": 35
        }
      ],
      "source": [
        "#Subset\n",
        "r=my_array[1]\n",
        "r"
      ]
    },
    {
      "cell_type": "code",
      "execution_count": 36,
      "id": "561207fb-df62-4ec7-9943-3736b75deff2",
      "metadata": {
        "colab": {
          "base_uri": "https://localhost:8080/"
        },
        "id": "561207fb-df62-4ec7-9943-3736b75deff2",
        "outputId": "ba2f1122-d10e-4031-ccfe-caf496e98a3c"
      },
      "outputs": [
        {
          "output_type": "execute_result",
          "data": {
            "text/plain": [
              "array([1, 2])"
            ]
          },
          "metadata": {},
          "execution_count": 36
        }
      ],
      "source": [
        "#Slice\n",
        "s=my_array[0:2]\n",
        "s"
      ]
    },
    {
      "cell_type": "code",
      "execution_count": 37,
      "id": "92275b91-d45b-4fe4-a149-dd6a2e725d60",
      "metadata": {
        "colab": {
          "base_uri": "https://localhost:8080/"
        },
        "id": "92275b91-d45b-4fe4-a149-dd6a2e725d60",
        "outputId": "740c028c-18e2-4a53-b515-50fd28cad998"
      },
      "outputs": [
        {
          "output_type": "execute_result",
          "data": {
            "text/plain": [
              "array([1, 4])"
            ]
          },
          "metadata": {},
          "execution_count": 37
        }
      ],
      "source": [
        "#Subset 2D Numpy arrays\n",
        "t=my_2darray[:,0]\n",
        "t"
      ]
    },
    {
      "cell_type": "code",
      "execution_count": null,
      "id": "575403f4-37c1-41f4-893c-001d317005da",
      "metadata": {
        "id": "575403f4-37c1-41f4-893c-001d317005da"
      },
      "outputs": [],
      "source": [
        "#numpy array operations"
      ]
    },
    {
      "cell_type": "code",
      "execution_count": 38,
      "id": "0e60237c-7802-4ce5-869a-e593c4a5416b",
      "metadata": {
        "colab": {
          "base_uri": "https://localhost:8080/"
        },
        "id": "0e60237c-7802-4ce5-869a-e593c4a5416b",
        "outputId": "719f0f81-3ebd-446d-86ea-6bc15c34bc6d"
      },
      "outputs": [
        {
          "output_type": "execute_result",
          "data": {
            "text/plain": [
              "array([False, False, False,  True])"
            ]
          },
          "metadata": {},
          "execution_count": 38
        }
      ],
      "source": [
        "u= my_array > 3\n",
        "u\n"
      ]
    },
    {
      "cell_type": "code",
      "execution_count": 39,
      "id": "3b353ce3-8558-46a3-be9d-aa7460e36789",
      "metadata": {
        "colab": {
          "base_uri": "https://localhost:8080/"
        },
        "id": "3b353ce3-8558-46a3-be9d-aa7460e36789",
        "outputId": "9a721bc8-3c1d-40a6-ba69-50be2731233f"
      },
      "outputs": [
        {
          "output_type": "execute_result",
          "data": {
            "text/plain": [
              "array([2, 4, 6, 8])"
            ]
          },
          "metadata": {},
          "execution_count": 39
        }
      ],
      "source": [
        "v= my_array * 2\n",
        "v\n"
      ]
    },
    {
      "cell_type": "code",
      "execution_count": 40,
      "id": "9ab85609-eada-4776-891a-8dd232294a5e",
      "metadata": {
        "colab": {
          "base_uri": "https://localhost:8080/"
        },
        "id": "9ab85609-eada-4776-891a-8dd232294a5e",
        "outputId": "141f0361-0c05-43be-fbcb-5497453c95ae"
      },
      "outputs": [
        {
          "output_type": "execute_result",
          "data": {
            "text/plain": [
              "array([ 6,  8, 10, 12])"
            ]
          },
          "metadata": {},
          "execution_count": 40
        }
      ],
      "source": [
        "w= my_array + np.array([5, 6, 7, 8])\n",
        "w"
      ]
    },
    {
      "cell_type": "code",
      "execution_count": null,
      "id": "eeb298f7-93c4-4118-9803-7307f1b11265",
      "metadata": {
        "id": "eeb298f7-93c4-4118-9803-7307f1b11265"
      },
      "outputs": [],
      "source": [
        "#numpy array function"
      ]
    },
    {
      "cell_type": "code",
      "execution_count": null,
      "id": "2afc68fb-142e-48eb-80b8-c0e03a4719c0",
      "metadata": {
        "id": "2afc68fb-142e-48eb-80b8-c0e03a4719c0"
      },
      "outputs": [],
      "source": [
        "# >>> my_array.shape Get the dimensions of the array\n",
        "# >>> np.append(other_array) Append items to an array\n",
        "# >>> np.insert(my_array, 1, 5) Insert items in an array\n",
        "# >>> np.delete(my_array,[1]) Delete items in an array\n",
        "# >>> np.mean(my_array) Mean of the array\n",
        "# >>> np.median(my_array) Median of the array\n",
        "# >>> my_array.corrcoef() Correlation coefficient\n",
        "# >>> np.std(my_array) Standard deviation"
      ]
    }
  ],
  "metadata": {
    "kernelspec": {
      "display_name": "Python 3 (ipykernel)",
      "language": "python",
      "name": "python3"
    },
    "language_info": {
      "codemirror_mode": {
        "name": "ipython",
        "version": 3
      },
      "file_extension": ".py",
      "mimetype": "text/x-python",
      "name": "python",
      "nbconvert_exporter": "python",
      "pygments_lexer": "ipython3",
      "version": "3.9.6"
    },
    "colab": {
      "name": "Numpy.ipynb",
      "provenance": [],
      "include_colab_link": true
    }
  },
  "nbformat": 4,
  "nbformat_minor": 5
}